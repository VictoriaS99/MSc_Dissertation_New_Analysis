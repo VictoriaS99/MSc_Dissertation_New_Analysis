{
 "cells": [
  {
   "cell_type": "code",
   "execution_count": 11,
   "id": "unnecessary-adobe",
   "metadata": {},
   "outputs": [],
   "source": [
    "import pandas as pd\n",
    "import numpy as np"
   ]
  },
  {
   "cell_type": "code",
   "execution_count": 13,
   "id": "welcome-auditor",
   "metadata": {},
   "outputs": [
    {
     "data": {
      "text/html": [
       "<div>\n",
       "<style scoped>\n",
       "    .dataframe tbody tr th:only-of-type {\n",
       "        vertical-align: middle;\n",
       "    }\n",
       "\n",
       "    .dataframe tbody tr th {\n",
       "        vertical-align: top;\n",
       "    }\n",
       "\n",
       "    .dataframe thead th {\n",
       "        text-align: right;\n",
       "    }\n",
       "</style>\n",
       "<table border=\"1\" class=\"dataframe\">\n",
       "  <thead>\n",
       "    <tr style=\"text-align: right;\">\n",
       "      <th></th>\n",
       "      <th>PageNumber</th>\n",
       "      <th>tag</th>\n",
       "      <th>probability</th>\n",
       "    </tr>\n",
       "  </thead>\n",
       "  <tbody>\n",
       "    <tr>\n",
       "      <th>0</th>\n",
       "      <td>0</td>\n",
       "      <td>leith</td>\n",
       "      <td>0.068133</td>\n",
       "    </tr>\n",
       "    <tr>\n",
       "      <th>1</th>\n",
       "      <td>0</td>\n",
       "      <td>light</td>\n",
       "      <td>0.032096</td>\n",
       "    </tr>\n",
       "    <tr>\n",
       "      <th>2</th>\n",
       "      <td>0</td>\n",
       "      <td>waterofleith</td>\n",
       "      <td>0.025339</td>\n",
       "    </tr>\n",
       "    <tr>\n",
       "      <th>3</th>\n",
       "      <td>0</td>\n",
       "      <td>urbanlandscape</td>\n",
       "      <td>0.020834</td>\n",
       "    </tr>\n",
       "    <tr>\n",
       "      <th>4</th>\n",
       "      <td>0</td>\n",
       "      <td>nature</td>\n",
       "      <td>0.018582</td>\n",
       "    </tr>\n",
       "    <tr>\n",
       "      <th>...</th>\n",
       "      <td>...</td>\n",
       "      <td>...</td>\n",
       "      <td>...</td>\n",
       "    </tr>\n",
       "    <tr>\n",
       "      <th>2714</th>\n",
       "      <td>3</td>\n",
       "      <td>venue</td>\n",
       "      <td>0.000736</td>\n",
       "    </tr>\n",
       "    <tr>\n",
       "      <th>2715</th>\n",
       "      <td>3</td>\n",
       "      <td>square</td>\n",
       "      <td>0.000736</td>\n",
       "    </tr>\n",
       "    <tr>\n",
       "      <th>2716</th>\n",
       "      <td>3</td>\n",
       "      <td>museum</td>\n",
       "      <td>0.000736</td>\n",
       "    </tr>\n",
       "    <tr>\n",
       "      <th>2717</th>\n",
       "      <td>3</td>\n",
       "      <td>sity</td>\n",
       "      <td>0.000736</td>\n",
       "    </tr>\n",
       "    <tr>\n",
       "      <th>2718</th>\n",
       "      <td>3</td>\n",
       "      <td>blackwhite</td>\n",
       "      <td>0.000736</td>\n",
       "    </tr>\n",
       "  </tbody>\n",
       "</table>\n",
       "<p>2719 rows × 3 columns</p>\n",
       "</div>"
      ],
      "text/plain": [
       "      PageNumber             tag  probability\n",
       "0              0           leith     0.068133\n",
       "1              0           light     0.032096\n",
       "2              0    waterofleith     0.025339\n",
       "3              0  urbanlandscape     0.020834\n",
       "4              0          nature     0.018582\n",
       "...          ...             ...          ...\n",
       "2714           3           venue     0.000736\n",
       "2715           3          square     0.000736\n",
       "2716           3          museum     0.000736\n",
       "2717           3            sity     0.000736\n",
       "2718           3      blackwhite     0.000736\n",
       "\n",
       "[2719 rows x 3 columns]"
      ]
     },
     "execution_count": 13,
     "metadata": {},
     "output_type": "execute_result"
    }
   ],
   "source": [
    "#since we want to conduct analysis on grids, we shall use the grid dataset containing all flickr posts within for filtering\n",
    "filtered_new = pd.read_csv(\"lemmatised_500m_grid_posts.csv\")\n",
    "\n",
    "#load words from topic modelling\n",
    "topic_words = pd.read_csv(\"top_words_500m_lemmatised.csv\")\n",
    "\n",
    "\n",
    "#add header to topic_words csv\n",
    "topic_words.columns = ['PageNumber', 'tag','probability']\n",
    "\n",
    "#filtered_new\n",
    "topic_words"
   ]
  },
  {
   "cell_type": "code",
   "execution_count": 14,
   "id": "optimum-groove",
   "metadata": {},
   "outputs": [],
   "source": [
    "#convert to string to apply operations\n",
    "filtered_new = filtered_new.applymap(str)\n"
   ]
  },
  {
   "cell_type": "code",
   "execution_count": 15,
   "id": "animated-rapid",
   "metadata": {},
   "outputs": [],
   "source": [
    "def remove_custom_words(phrase, words_to_keep_list):\n",
    "    \"\"\"function for passing each tag in a list and string matching to another defined list \"\"\"\n",
    "    return([elem for elem in phrase.split(' ') if elem in words_to_keep_list])\n",
    "\n",
    "#this is saying let's take each row in the column\n",
    "#apply function above to each row/x\n",
    "#output this as a new column\n",
    "#note: topic_words['tag'] first turned into a list to allow iteration to line up with 'lemmatised_tags' column\n",
    "filtered_new['top_words_only'] = filtered_new['lemmatised_tags'].apply(lambda x: remove_custom_words(x,topic_words['tag'].to_list()))"
   ]
  },
  {
   "cell_type": "code",
   "execution_count": 16,
   "id": "english-springfield",
   "metadata": {},
   "outputs": [],
   "source": [
    "#unlisting list\n",
    "#take each row in df and convert list to dictionary, then take the keys from it\n",
    "#finally join together with whitespace \n",
    "filtered_new['top_words_only'] = filtered_new['top_words_only'].apply(lambda x: ' '.join(dict.fromkeys(x).keys()))"
   ]
  },
  {
   "cell_type": "code",
   "execution_count": 17,
   "id": "coated-antique",
   "metadata": {},
   "outputs": [],
   "source": [
    "#remove NA rows\n",
    "#first convert empty strings to NaN\n",
    "filtered_new['top_words_only'] = filtered_new['top_words_only'].replace(r'^s*$', float('NaN'), regex = True)\n",
    "\n",
    "#remove NaNs\n",
    "filtered_new = filtered_new.dropna(subset=['top_words_only'])\n",
    "\n",
    "filtered_new\n",
    "#ok so all the grids with only the topic modelling extracted words"
   ]
  },
  {
   "cell_type": "code",
   "execution_count": 19,
   "id": "minus-particle",
   "metadata": {},
   "outputs": [],
   "source": [
    "filtered_new.to_csv(\"analysis_data_end_of_stage_2.csv\")"
   ]
  }
 ],
 "metadata": {
  "kernelspec": {
   "display_name": "Python 3",
   "language": "python",
   "name": "python3"
  },
  "language_info": {
   "codemirror_mode": {
    "name": "ipython",
    "version": 3
   },
   "file_extension": ".py",
   "mimetype": "text/x-python",
   "name": "python",
   "nbconvert_exporter": "python",
   "pygments_lexer": "ipython3",
   "version": "3.8.8"
  }
 },
 "nbformat": 4,
 "nbformat_minor": 5
}
