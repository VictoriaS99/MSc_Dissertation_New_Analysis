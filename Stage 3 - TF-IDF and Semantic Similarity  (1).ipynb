{
 "cells": [
  {
   "cell_type": "markdown",
   "id": "objective-portal",
   "metadata": {},
   "source": [
    "This is a very useful guide into TF-IDF calculation and K-means clustering using Sci-Kit Learn:\n",
    "\n",
    "https://jonathansoma.com/lede/algorithms-2017/classes/clustering/k-means-clustering-with-scikit-learn/"
   ]
  },
  {
   "cell_type": "code",
   "execution_count": 16,
   "id": "incorporate-triangle",
   "metadata": {},
   "outputs": [],
   "source": [
    "import numpy as np\n",
    "import pandas as pd\n",
    "from sklearn.metrics.pairwise import linear_kernel\n",
    "from sklearn.feature_extraction.text import TfidfVectorizer #SciKit-Learn Machine Learning Library\n",
    "from sklearn.metrics.pairwise import cosine_similarity\n",
    "from scipy import sparse\n",
    "from sklearn.cluster import KMeans"
   ]
  },
  {
   "cell_type": "code",
   "execution_count": 2,
   "id": "cordless-diploma",
   "metadata": {},
   "outputs": [
    {
     "data": {
      "text/html": [
       "<div>\n",
       "<style scoped>\n",
       "    .dataframe tbody tr th:only-of-type {\n",
       "        vertical-align: middle;\n",
       "    }\n",
       "\n",
       "    .dataframe tbody tr th {\n",
       "        vertical-align: top;\n",
       "    }\n",
       "\n",
       "    .dataframe thead th {\n",
       "        text-align: right;\n",
       "    }\n",
       "</style>\n",
       "<table border=\"1\" class=\"dataframe\">\n",
       "  <thead>\n",
       "    <tr style=\"text-align: right;\">\n",
       "      <th></th>\n",
       "      <th>Unnamed: 0</th>\n",
       "      <th>Unnamed: 0.1</th>\n",
       "      <th>PageNumber</th>\n",
       "      <th>custom_filter</th>\n",
       "      <th>lemmatised_tags</th>\n",
       "      <th>top_words_only</th>\n",
       "    </tr>\n",
       "  </thead>\n",
       "  <tbody>\n",
       "    <tr>\n",
       "      <th>0</th>\n",
       "      <td>0</td>\n",
       "      <td>0</td>\n",
       "      <td>100</td>\n",
       "      <td>bike bicycle politics leith scottshparliame gr...</td>\n",
       "      <td>bike bicycle politic leith scottshparliame gre...</td>\n",
       "      <td>bike bicycle politic leith greenerleith pedalo...</td>\n",
       "    </tr>\n",
       "    <tr>\n",
       "      <th>1</th>\n",
       "      <td>1</td>\n",
       "      <td>1</td>\n",
       "      <td>101</td>\n",
       "      <td>winter landscape salisburycrags holyroodpark a...</td>\n",
       "      <td>winter landscape salisburycrag holyroodpark ar...</td>\n",
       "      <td>winter landscape salisburycrag holyroodpark ar...</td>\n",
       "    </tr>\n",
       "    <tr>\n",
       "      <th>2</th>\n",
       "      <td>2</td>\n",
       "      <td>2</td>\n",
       "      <td>104</td>\n",
       "      <td>canal unioncanal water rowing spring sunny sun...</td>\n",
       "      <td>canal unioncanal water rowing spring sunny sun...</td>\n",
       "      <td>canal unioncanal water peoplewatche candid pol...</td>\n",
       "    </tr>\n",
       "    <tr>\n",
       "      <th>3</th>\n",
       "      <td>3</td>\n",
       "      <td>3</td>\n",
       "      <td>105</td>\n",
       "      <td>christmas westhallgardens tree christmastree b...</td>\n",
       "      <td>christmas westhallgardens tree christmastree b...</td>\n",
       "      <td>christmas tree game boroughmuirhigh school squ...</td>\n",
       "    </tr>\n",
       "    <tr>\n",
       "      <th>4</th>\n",
       "      <td>4</td>\n",
       "      <td>4</td>\n",
       "      <td>106</td>\n",
       "      <td>square hudson instagram foursquare venue ddced...</td>\n",
       "      <td>square hudson instagram foursquare venue ddced...</td>\n",
       "      <td>square instagram foursquare venue cycling bike...</td>\n",
       "    </tr>\n",
       "    <tr>\n",
       "      <th>...</th>\n",
       "      <td>...</td>\n",
       "      <td>...</td>\n",
       "      <td>...</td>\n",
       "      <td>...</td>\n",
       "      <td>...</td>\n",
       "      <td>...</td>\n",
       "    </tr>\n",
       "    <tr>\n",
       "      <th>63</th>\n",
       "      <td>63</td>\n",
       "      <td>63</td>\n",
       "      <td>95</td>\n",
       "      <td>urban streetart color colour wall canon painti...</td>\n",
       "      <td>urban streetart color colour wall canon paint ...</td>\n",
       "      <td>urban streetart colour canon paint graffiti fa...</td>\n",
       "    </tr>\n",
       "    <tr>\n",
       "      <th>64</th>\n",
       "      <td>64</td>\n",
       "      <td>64</td>\n",
       "      <td>96</td>\n",
       "      <td>tollcross lauristonplace goldbergs alcohol the...</td>\n",
       "      <td>tollcross lauristonplace goldbergs alcohol the...</td>\n",
       "      <td>tollcross tenement themeadow pentax canon eyef...</td>\n",
       "    </tr>\n",
       "    <tr>\n",
       "      <th>65</th>\n",
       "      <td>65</td>\n",
       "      <td>65</td>\n",
       "      <td>97</td>\n",
       "      <td>copyright photography november sunset mist sno...</td>\n",
       "      <td>copyright photography november sunset mist sno...</td>\n",
       "      <td>photography november sunset mist snow december...</td>\n",
       "    </tr>\n",
       "    <tr>\n",
       "      <th>66</th>\n",
       "      <td>66</td>\n",
       "      <td>66</td>\n",
       "      <td>98</td>\n",
       "      <td>university library georgesquare libraryworkin ...</td>\n",
       "      <td>university library georgesquare libraryworkin ...</td>\n",
       "      <td>winter snow december fringe edfringe architect...</td>\n",
       "    </tr>\n",
       "    <tr>\n",
       "      <th>67</th>\n",
       "      <td>67</td>\n",
       "      <td>67</td>\n",
       "      <td>99</td>\n",
       "      <td>bowmontplace damian history boys alan theatre ...</td>\n",
       "      <td>bowmontplace damian history boys alan theatre ...</td>\n",
       "      <td>theatre portrait people event lothian flickrmo...</td>\n",
       "    </tr>\n",
       "  </tbody>\n",
       "</table>\n",
       "<p>68 rows × 6 columns</p>\n",
       "</div>"
      ],
      "text/plain": [
       "    Unnamed: 0  Unnamed: 0.1  PageNumber  \\\n",
       "0            0             0         100   \n",
       "1            1             1         101   \n",
       "2            2             2         104   \n",
       "3            3             3         105   \n",
       "4            4             4         106   \n",
       "..         ...           ...         ...   \n",
       "63          63            63          95   \n",
       "64          64            64          96   \n",
       "65          65            65          97   \n",
       "66          66            66          98   \n",
       "67          67            67          99   \n",
       "\n",
       "                                        custom_filter  \\\n",
       "0   bike bicycle politics leith scottshparliame gr...   \n",
       "1   winter landscape salisburycrags holyroodpark a...   \n",
       "2   canal unioncanal water rowing spring sunny sun...   \n",
       "3   christmas westhallgardens tree christmastree b...   \n",
       "4   square hudson instagram foursquare venue ddced...   \n",
       "..                                                ...   \n",
       "63  urban streetart color colour wall canon painti...   \n",
       "64  tollcross lauristonplace goldbergs alcohol the...   \n",
       "65  copyright photography november sunset mist sno...   \n",
       "66  university library georgesquare libraryworkin ...   \n",
       "67  bowmontplace damian history boys alan theatre ...   \n",
       "\n",
       "                                      lemmatised_tags  \\\n",
       "0   bike bicycle politic leith scottshparliame gre...   \n",
       "1   winter landscape salisburycrag holyroodpark ar...   \n",
       "2   canal unioncanal water rowing spring sunny sun...   \n",
       "3   christmas westhallgardens tree christmastree b...   \n",
       "4   square hudson instagram foursquare venue ddced...   \n",
       "..                                                ...   \n",
       "63  urban streetart color colour wall canon paint ...   \n",
       "64  tollcross lauristonplace goldbergs alcohol the...   \n",
       "65  copyright photography november sunset mist sno...   \n",
       "66  university library georgesquare libraryworkin ...   \n",
       "67  bowmontplace damian history boys alan theatre ...   \n",
       "\n",
       "                                       top_words_only  \n",
       "0   bike bicycle politic leith greenerleith pedalo...  \n",
       "1   winter landscape salisburycrag holyroodpark ar...  \n",
       "2   canal unioncanal water peoplewatche candid pol...  \n",
       "3   christmas tree game boroughmuirhigh school squ...  \n",
       "4   square instagram foursquare venue cycling bike...  \n",
       "..                                                ...  \n",
       "63  urban streetart colour canon paint graffiti fa...  \n",
       "64  tollcross tenement themeadow pentax canon eyef...  \n",
       "65  photography november sunset mist snow december...  \n",
       "66  winter snow december fringe edfringe architect...  \n",
       "67  theatre portrait people event lothian flickrmo...  \n",
       "\n",
       "[68 rows x 6 columns]"
      ]
     },
     "execution_count": 2,
     "metadata": {},
     "output_type": "execute_result"
    }
   ],
   "source": [
    "df = pd.read_csv(\"analysis_data_end_of_stage_2.csv\")\n",
    "\n",
    "df"
   ]
  },
  {
   "cell_type": "code",
   "execution_count": 12,
   "id": "applicable-carrier",
   "metadata": {},
   "outputs": [],
   "source": [
    "#create vectoriser - TdidfVectorizer normalises the tfidf values from 0-1\n",
    "#set use_idf to 'True' so that it actually calculates the IDF part of TF-IDF (otherwise it's just TF which is bloody confusing)\n",
    "#max_df = words that appear over 80% of entire corpus is missed out\n",
    "#min_df = miss out on words that appear less than 5 times in corpus\n",
    "# norm = 'l2' normalises the length of the documents to prepare for calculation (between two equal-length vectors) \n",
    "Vectorizer = TfidfVectorizer(lowercase = True, max_df = 0.8, min_df = 5, stop_words = 'english', use_idf = True, norm = 'l2')\n",
    "\n",
    "Vectors = Vectorizer.fit_transform(df['top_words_only'])\n",
    "#convert to array\n",
    "Vectors.toarray()\n",
    "\n",
    "#print shape of array\n",
    "#(76, 324) - 76 rows and 324 columns\n",
    "Vectors.shape\n",
    "\n",
    "#get feature names from vectors\n",
    "feature_names = Vectorizer.get_feature_names_out()"
   ]
  },
  {
   "cell_type": "code",
   "execution_count": 14,
   "id": "numerical-estate",
   "metadata": {},
   "outputs": [
    {
     "data": {
      "text/plain": [
       "<68x434 sparse matrix of type '<class 'numpy.float64'>'\n",
       "\twith 7710 stored elements in Compressed Sparse Row format>"
      ]
     },
     "execution_count": 14,
     "metadata": {},
     "output_type": "execute_result"
    }
   ],
   "source": [
    "#convert array to sparse matrix\n",
    "Vectors_sparse = sparse.csr_matrix(Vectors)\n",
    "Vectors_sparse"
   ]
  },
  {
   "cell_type": "code",
   "execution_count": 17,
   "id": "configured-harvey",
   "metadata": {},
   "outputs": [
    {
     "name": "stdout",
     "output_type": "stream",
     "text": [
      "pairwise dense output:\n",
      " [[1.         0.45580624 0.16135657 ... 0.33068668 0.30295618 0.46012321]\n",
      " [0.45580624 1.         0.22173072 ... 0.42082607 0.3690385  0.46951377]\n",
      " [0.16135657 0.22173072 1.         ... 0.27981079 0.32082719 0.18262553]\n",
      " ...\n",
      " [0.33068668 0.42082607 0.27981079 ... 1.         0.570087   0.38227157]\n",
      " [0.30295618 0.3690385  0.32082719 ... 0.570087   1.         0.3453214 ]\n",
      " [0.46012321 0.46951377 0.18262553 ... 0.38227157 0.3453214  1.        ]]\n",
      "\n"
     ]
    }
   ],
   "source": [
    "similarities = cosine_similarity(Vectors_sparse)\n",
    "print('pairwise dense output:\\n {}\\n'.format(similarities))"
   ]
  },
  {
   "cell_type": "code",
   "execution_count": 18,
   "id": "stone-rebound",
   "metadata": {},
   "outputs": [
    {
     "name": "stdout",
     "output_type": "stream",
     "text": [
      "(68, 68)\n"
     ]
    }
   ],
   "source": [
    "#check shape to see if it's a matrix - and yes it is\n",
    "print(similarities.shape)\n",
    "\n",
    "list = similarities.tolist()\n",
    "cosine_similarity_matrix = pd.DataFrame(list)\n",
    "\n",
    "cosine_similarity_matrix.to_csv(\"cosine_sim_matrix.csv\")"
   ]
  },
  {
   "cell_type": "markdown",
   "id": "classified-sapphire",
   "metadata": {},
   "source": [
    "This is useful and below code draws from it: https://stackoverflow.com/questions/12118720/python-tf-idf-cosine-to-find-document-similarity"
   ]
  },
  {
   "cell_type": "code",
   "execution_count": 13,
   "id": "aerial-causing",
   "metadata": {},
   "outputs": [],
   "source": [
    "#using the tfidf vectors, let's try and see what the terms are with high tfidf scores \n",
    "#convert to matrix\n",
    "matrix = Vectors.todense()\n",
    "\n",
    "#convert to list via a matrix\n",
    "matrix_list = matrix.tolist()\n",
    "\n",
    "#matrix_list"
   ]
  },
  {
   "cell_type": "code",
   "execution_count": 9,
   "id": "clinical-pioneer",
   "metadata": {},
   "outputs": [],
   "source": [
    "#this takes each word from the matrix list (word embedding) and churns it out into a list of actual tags. ONLY the rarer\n",
    "#terms are printed below\n",
    "\n",
    "all_keywords = []\n",
    "for tag in matrix_list:\n",
    "    x=0\n",
    "    keywords = []\n",
    "    for word in tag:\n",
    "        if word > 0: #select words with tfidf values of over 0 - these indicate more common words\n",
    "            keywords.append(feature_names[x])\n",
    "        x=x+1\n",
    "    all_keywords.append(keywords)"
   ]
  },
  {
   "cell_type": "code",
   "execution_count": 11,
   "id": "silent-alliance",
   "metadata": {},
   "outputs": [
    {
     "name": "stdout",
     "output_type": "stream",
     "text": [
      "[0.0, 0.0, 0.0, 0.0, 0.0, 0.0, 0.0, 0.0, 0.0, 0.0, 0.0, 0.0, 0.025165154099934833, 0.0, 0.0, 0.0, 0.0, 0.0, 0.0, 0.0, 0.0, 0.0, 0.0, 0.0, 0.0, 0.0, 0.0, 0.0, 0.0, 0.0, 0.0, 0.0, 0.0, 0.0, 0.0, 0.0, 0.0, 0.0, 0.0, 0.0, 0.0, 0.0, 0.0, 0.0, 0.0, 0.0, 0.0, 0.0, 0.0, 0.0, 0.0, 0.0, 0.0, 0.0, 0.0, 0.04783650014364247, 0.0, 0.0, 0.028254988857307914, 0.0, 0.0, 0.0, 0.0, 0.0, 0.0, 0.0, 0.0, 0.0, 0.0, 0.0, 0.0, 0.0, 0.0, 0.0, 0.0, 0.0, 0.0, 0.0, 0.0, 0.0, 0.0, 0.0, 0.0, 0.2703328334562451, 0.0, 0.0, 0.0, 0.0, 0.0, 0.0, 0.0, 0.0, 0.0, 0.0, 0.0, 0.0, 0.024522206503097128, 0.0, 0.0, 0.0, 0.0, 0.0, 0.0, 0.0, 0.0, 0.0, 0.09567300028728494, 0.0, 0.0, 0.0, 0.0, 0.0, 0.0, 0.0, 0.0, 0.0, 0.0, 0.0, 0.0, 0.0, 0.0, 0.0, 0.0, 0.0, 0.0, 0.0, 0.0, 0.0, 0.0, 0.0, 0.0, 0.0, 0.0, 0.0, 0.0, 0.0, 0.0, 0.0, 0.0, 0.0, 0.06843058411092454, 0.0, 0.0, 0.0, 0.0, 0.0, 0.0, 0.0, 0.0, 0.0, 0.020076191703300876, 0.0, 0.0, 0.01617057822236084, 0.0, 0.0, 0.0, 0.0, 0.0, 0.0, 0.0, 0.015147913920561158, 0.0, 0.0, 0.0, 0.0, 0.0, 0.0, 0.0, 0.0, 0.0, 0.0, 0.06059165568224463, 0.0, 0.0, 0.0, 0.0, 0.0, 0.0, 0.0, 0.0, 0.0, 0.0, 0.0, 0.0, 0.0, 0.0, 0.0, 0.0, 0.0, 0.0, 0.0, 0.0, 0.0, 0.0, 0.0, 0.0, 0.0, 0.0, 0.0, 0.0, 0.0, 0.0, 0.0, 0.0, 0.0, 0.0, 0.016724177865285027, 0.0, 0.0, 0.0, 0.0, 0.0, 0.0, 0.0, 0.0, 0.0, 0.0, 0.0, 0.0, 0.0, 0.06390087120087704, 0.0, 0.0, 0.0, 0.0, 0.0, 0.0, 0.0, 0.03142749819774069, 0.0, 0.0, 0.0, 0.0, 0.0, 0.0, 0.0, 0.0, 0.0, 0.0, 0.0, 0.0, 0.0, 0.0, 0.0, 0.0, 0.0, 0.0, 0.0, 0.0, 0.0, 0.0, 0.0, 0.0, 0.0, 0.0, 0.0, 0.0, 0.0, 0.0, 0.0, 0.01793320264592311, 0.0, 0.0, 0.0, 0.06272057542891592, 0.0, 0.028254988857307914, 0.0, 0.0, 0.0, 0.03142749819774069, 0.0, 0.0, 0.0, 0.0, 0.0, 0.0, 0.0, 0.0, 0.0, 0.0, 0.060508232993137595, 0.0, 0.0, 0.0, 0.0, 0.0, 0.0, 0.0, 0.0, 0.0, 0.0, 0.0, 0.0, 0.0, 0.0, 0.0, 0.0, 0.0, 0.0, 0.0, 0.0, 0.0, 0.0, 0.0, 0.0, 0.0, 0.0, 0.0, 0.0, 0.0, 0.0, 0.0, 0.0, 0.0, 0.0, 0.0, 0.0, 0.0, 0.0, 0.0, 0.0, 0.0, 0.03078781481711088, 0.0, 0.0, 0.0, 0.0, 0.0, 0.0, 0.02738816149983296, 0.0, 0.0, 0.0, 0.0, 0.0, 0.0, 0.0, 0.01539390740855544, 0.0, 0.12289721883113638, 0.0, 0.0, 0.0, 0.0, 0.0, 0.0, 0.0, 0.0, 0.0, 0.0, 0.0, 0.08216448449949888, 0.030254116496568798, 0.03429345319447652, 0.022299199103199, 0.0, 0.0, 0.0, 0.0, 0.0, 0.06157562963422176, 0.0, 0.049044413006194255, 0.0, 0.0, 0.0, 0.0, 0.0, 0.028254988857307914, 0.030254116496568798, 0.0, 0.0, 0.0, 0.0, 0.0, 0.0, 0.0, 0.0, 0.025852476959826717, 0.0, 0.0, 0.0, 0.0, 0.0, 0.0, 0.0, 0.0, 0.0, 0.0, 0.0, 0.0, 0.0, 0.0, 0.0, 0.0, 0.0, 0.0, 0.0, 0.0, 0.0, 0.0, 0.0, 0.0, 0.0, 0.0, 0.0, 0.0, 0.0, 0.0, 0.0, 0.0, 0.0, 0.0, 0.0, 0.0, 0.0, 0.0, 0.0, 0.017310360464756622, 0.0, 0.0, 0.0, 0.0, 0.0, 0.0, 0.0, 0.0, 0.0, 0.0, 0.1977849220011554, 0.10288035958342957, 0.0, 0.0, 0.0, 0.0, 0.0, 0.0, 0.0, 0.0, 0.0, 0.0, 0.0, 0.0, 0.0, 0.0, 0.0, 0.0, 0.0, 0.0, 0.0, 0.0, 0.0, 0.0, 0.0, 0.0, 0.0, 0.0, 0.0, 0.0, 0.0, 0.0409657396103788, 0.0, 0.0, 0.0, 0.0, 0.0, 0.0, 0.0, 0.0, 0.0, 0.0, 0.0, 0.0, 0.0, 0.0, 0.0, 0.0, 0.0, 0.01859759746328069, 0.0, 0.0, 0.0, 0.0, 0.0, 0.0, 0.0, 0.0, 0.0, 0.0, 0.0, 0.0, 0.0, 0.0, 0.0, 0.0, 0.0, 0.0, 0.0, 0.0, 0.0, 0.0, 0.0, 0.0, 0.0, 0.0, 0.0, 0.0, 0.0, 0.0, 0.0, 0.0, 0.0, 0.0, 0.0, 0.0, 0.0, 0.0, 0.0, 0.0, 0.0, 0.0, 0.0, 0.0, 0.0, 0.0, 0.0, 0.0, 0.0, 0.0, 0.0, 0.0, 0.0, 0.0, 0.0, 0.0, 0.0, 0.0, 0.0, 0.0, 0.0, 0.0, 0.0, 0.0, 0.0, 0.0, 0.0, 0.0, 0.0, 0.0, 0.0, 0.0, 0.0, 0.0, 0.0, 0.0, 0.0, 0.0, 0.0, 0.0, 0.0, 0.0, 0.0, 0.01859759746328069, 0.0, 0.0, 0.0, 0.0, 0.0, 0.0, 0.0, 0.0, 0.0, 0.0, 0.0, 0.0, 0.0, 0.0, 0.0, 0.0, 0.0, 0.0, 0.0, 0.022299199103199, 0.0, 0.0, 0.0, 0.0, 0.0, 0.0, 0.0, 0.0, 0.0, 0.0, 0.0, 0.0, 0.0, 0.0, 0.0, 0.0, 0.0, 0.0, 0.021813140261918988, 0.0, 0.0, 0.0, 0.0, 0.0, 0.0, 0.0, 0.0, 0.0, 0.0, 0.0, 0.0, 0.0, 0.0, 0.0, 0.0, 0.0, 0.0, 0.0, 0.0, 0.0, 0.0, 0.0, 0.0, 0.0, 0.0, 0.0, 0.0, 0.0, 0.0, 0.0, 0.0, 0.0, 0.0, 0.05650997771461583, 0.0, 0.0, 0.0, 0.06858690638895304, 0.0, 0.0, 0.0, 0.0, 0.0, 0.0, 0.0, 0.0, 0.0, 0.0, 0.0, 0.0, 0.0, 0.0, 0.03429345319447652, 0.0, 0.0, 0.0, 0.0, 0.0, 0.0754954622998045, 0.0, 0.01701295837717767, 0.0, 0.0, 0.0, 0.0, 0.03275776865447028, 0.0, 0.0, 0.0, 0.0, 0.0, 0.0, 0.0, 0.0, 0.0, 0.0, 0.0, 0.0, 0.0, 0.0, 0.0, 0.023348824801925235, 0.023348824801925235, 0.0, 0.0, 0.0, 0.0, 0.0, 0.0, 0.0, 0.0, 0.0, 0.0, 0.0, 0.0, 0.0, 0.0, 0.0, 0.0, 0.030295827841122315, 0.0, 0.0, 0.0, 0.0, 0.0, 0.0, 0.0, 0.0, 0.0, 0.0, 0.0, 0.0, 0.0, 0.0, 0.025852476959826717, 0.0, 0.0, 0.0, 0.02281019470364151, 0.0, 0.0, 0.0, 0.0, 0.0, 0.0, 0.0, 0.018947185265183155, 0.0, 0.0, 0.0, 0.0, 0.0, 0.0, 0.0, 0.0, 0.0, 0.0, 0.0, 0.0, 0.0, 0.0, 0.0, 0.0, 0.0, 0.0, 0.0, 0.0, 0.0, 0.0, 0.0, 0.0, 0.029204490797842562, 0.0, 0.0, 0.0, 0.0, 0.0, 0.0, 0.0, 0.0, 0.0, 0.0, 0.0, 0.0, 0.0, 0.0, 0.0, 0.0, 0.019309488104017506, 0.0, 0.0, 0.0, 0.0, 0.0, 0.0, 0.0, 0.0, 0.0, 0.0, 0.0, 0.0, 0.0, 0.0, 0.0, 0.0, 0.0, 0.0, 0.0, 0.0, 0.0, 0.0, 0.0, 0.0, 0.0, 0.0, 0.0, 0.0, 0.0, 0.0, 0.0, 0.0, 0.0, 0.0, 0.0, 0.0, 0.0, 0.0, 0.0, 0.0, 0.0, 0.0, 0.0, 0.0, 0.0, 0.0, 0.0, 0.0, 0.0, 0.0, 0.0, 0.030254116496568798, 0.0, 0.0, 0.030254116496568798, 0.0, 0.0, 0.0, 0.0, 0.0, 0.03429345319447652, 0.0, 0.0, 0.0, 0.0, 0.0, 0.0, 0.0, 0.0, 0.0, 0.0, 0.0, 0.020906858476305305, 0.01825986240529127, 0.0, 0.03429345319447652, 0.0, 0.0, 0.0, 0.0, 0.0, 0.0, 0.0, 0.0, 0.0, 0.0, 0.0, 0.0, 0.048511734667082515, 0.03429345319447652, 0.044598398206398, 0.0, 0.0, 0.0, 0.0, 0.0, 0.0, 0.0, 0.0, 0.0, 0.0, 0.0, 0.0, 0.0, 0.0, 0.0, 0.028254988857307914, 0.0, 0.0, 0.0, 0.0, 0.0, 0.0, 0.0, 0.0, 0.0, 0.0, 0.0, 0.0, 0.0, 0.0, 0.0, 0.0, 0.0, 0.0, 0.0, 0.0, 0.0, 0.0, 0.0, 0.0, 0.0, 0.0, 0.0, 0.0, 0.0, 0.0, 0.0, 0.0, 0.0, 0.0, 0.0, 0.0, 0.0, 0.0, 0.030254116496568798, 0.04269939432532871, 0.0754954622998045, 0.10288035958342957, 0.0, 0.0, 0.026590757629462527, 0.01793320264592311, 0.0, 0.017616914808453565, 0.0, 0.028254988857307914, 0.0, 0.0, 0.0, 0.0, 0.0, 0.0, 0.02738816149983296, 0.0, 0.0, 0.23484666878930788, 0.0, 0.0, 0.409657396103788, 0.0, 0.0, 0.0, 0.0, 0.0, 0.06858690638895304, 0.0, 0.0, 0.0, 0.0, 0.024522206503097128, 0.03142749819774069, 0.0, 0.0, 0.0, 0.0, 0.0, 0.0, 0.0, 0.0, 0.0, 0.0, 0.0, 0.0, 0.0, 0.0, 0.0, 0.0, 0.0, 0.0, 0.0, 0.03142749819774069, 0.0, 0.0, 0.0, 0.0, 0.03275776865447028, 0.0, 0.0, 0.0, 0.0, 0.0, 0.0, 0.0, 0.0, 0.0, 0.0, 0.0, 0.0, 0.0, 0.0, 0.05477632299966592, 0.0, 0.0, 0.0, 0.0, 0.0, 0.0, 0.0, 0.0, 0.0, 0.0, 0.0, 0.0, 0.0, 0.0, 0.0, 0.0, 0.0, 0.0, 0.0, 0.0, 0.0, 0.0, 0.0, 0.0, 0.0, 0.0, 0.0, 0.0, 0.0, 0.0, 0.0, 0.0, 0.044598398206398, 0.0, 0.0, 0.0, 0.0, 0.0, 0.0, 0.0, 0.0, 0.0, 0.0, 0.0, 0.0, 0.0, 0.0, 0.0, 0.0, 0.0, 0.0, 0.0, 0.0, 0.0, 0.0, 0.0, 0.0, 0.0, 0.0, 0.0, 0.0, 0.0, 0.0, 0.0, 0.0, 0.0, 0.04669764960385047, 0.0, 0.0, 0.0, 0.0, 0.0, 0.0, 0.0, 0.0, 0.0, 0.0, 0.0, 0.0, 0.0, 0.0, 0.024522206503097128, 0.0, 0.0, 0.0, 0.0, 0.0, 0.0, 0.0, 0.0, 0.2520282020699113, 0.0, 0.03429345319447652, 0.0, 0.0, 0.0, 0.0, 0.0, 0.0, 0.0, 0.0, 0.0, 0.0, 0.0, 0.0, 0.0, 0.0, 0.0, 0.0, 0.0, 0.0, 0.0, 0.014907848567275428, 0.0, 0.0, 0.0, 0.0, 0.0, 0.0, 0.01859759746328069, 0.0, 0.0, 0.0, 0.0, 0.0, 0.0, 0.0, 0.0, 0.028254988857307914, 0.0, 0.0, 0.0, 0.0, 0.0, 0.0, 0.0, 0.10224139392140325, 0.0, 0.0, 0.0, 0.02738816149983296, 0.0, 0.0, 0.0, 0.0, 0.0, 0.0, 0.0, 0.0, 0.0, 0.0, 0.0, 0.0, 0.0, 0.0, 0.0, 0.0, 0.0, 0.0, 0.0, 0.0, 0.0, 0.0, 0.023348824801925235, 0.0, 0.0, 0.0, 0.0, 0.039370931869637936, 0.0, 0.012973621679269944, 0.0, 0.0, 0.0, 0.0, 0.0, 0.0, 0.0, 0.0, 0.0, 0.0, 0.0, 0.0, 0.0, 0.0, 0.0, 0.0, 0.0, 0.0, 0.0, 0.0, 0.0, 0.0, 0.0, 0.0, 0.0, 0.0, 0.0, 0.0, 0.0, 0.0, 0.0, 0.0, 0.0, 0.0, 0.0, 0.0, 0.0, 0.0, 0.0, 0.0, 0.049044413006194255, 0.0, 0.049044413006194255, 0.0, 0.0, 0.0, 0.0, 0.0, 0.0, 0.0, 0.0, 0.0, 0.0, 0.06858690638895304, 0.051704953919653435, 0.0, 0.0, 0.0, 0.028254988857307914, 0.0, 0.0, 0.0, 0.0, 0.0, 0.0, 0.0, 0.0, 0.0, 0.0, 0.0, 0.030295827841122315, 0.0, 0.0, 0.0, 0.0, 0.0, 0.0, 0.0, 0.0, 0.0, 0.0, 0.021349697162664355, 0.0, 0.0, 0.0, 0.0, 0.0, 0.0, 0.0, 0.0, 0.0, 0.0, 0.0, 0.0, 0.0, 0.0, 0.0, 0.0, 0.0, 0.0, 0.0, 0.0, 0.0, 0.0, 0.018947185265183155, 0.0, 0.0, 0.0, 0.0, 0.0, 0.0, 0.0, 0.0, 0.0, 0.0, 0.0, 0.0, 0.1526919818334329, 0.0, 0.0, 0.0, 0.0, 0.0, 0.0, 0.0, 0.0, 0.0, 0.0, 0.0, 0.0, 0.0, 0.0, 0.0, 0.0, 0.0, 0.0, 0.0, 0.0, 0.0, 0.0, 0.0, 0.0, 0.0, 0.07175475021546371, 0.0, 0.054310312442183366, 0.0, 0.0, 0.0, 0.0, 0.0, 0.0, 0.0, 0.0, 0.0, 0.0, 0.0, 0.0, 0.0, 0.0, 0.0, 0.0, 0.0, 0.060508232993137595, 0.0, 0.0, 0.0, 0.0, 0.0, 0.0, 0.05600626712664696, 0.0, 0.0, 0.0, 0.0, 0.021349697162664355, 0.0, 0.0, 0.01400156678166174, 0.019685465934818968, 0.0, 0.0, 0.0, 0.0, 0.0, 0.0, 0.0, 0.0, 0.0, 0.0, 0.0, 0.0, 0.0, 0.0, 0.0, 0.0, 0.0, 0.0, 0.0, 0.0, 0.0, 0.0, 0.0, 0.0, 0.0, 0.0, 0.0, 0.0, 0.0, 0.0, 0.0, 0.0, 0.0, 0.0, 0.0, 0.04562038940728302, 0.0, 0.0, 0.0, 0.0, 0.0, 0.0, 0.0, 0.0, 0.0, 0.0, 0.0, 0.0, 0.0, 0.0, 0.0, 0.0, 0.0, 0.0, 0.0, 0.0, 0.0, 0.0, 0.0, 0.0, 0.0, 0.0, 0.0, 0.023348824801925235, 0.0, 0.0, 0.0, 0.0, 0.02738816149983296, 0.0, 0.0, 0.0, 0.0, 0.0, 0.0, 0.0, 0.06858690638895304, 0.0, 0.0, 0.0, 0.0, 0.0, 0.0, 0.0, 0.0, 0.0, 0.0, 0.0, 0.0, 0.0, 0.029204490797842562, 0.08966601322961555, 0.0, 0.026590757629462527, 0.0, 0.0, 0.0, 0.07336716169044948, 0.0, 0.11301995542923166, 0.030254116496568798, 0.0, 0.0, 0.0, 0.0, 0.0204828698051894, 0.0, 0.0, 0.0, 0.0, 0.0, 0.0, 0.053181515258925054, 0.0, 0.0, 0.0, 0.0, 0.013577578110545841, 0.0, 0.0, 0.025852476959826717, 0.0, 0.0, 0.0, 0.0, 0.0, 0.0, 0.01793320264592311, 0.0, 0.024522206503097128, 0.0, 0.03892086503780984, 0.0, 0.0, 0.0, 0.04562038940728302, 0.0, 0.0, 0.0, 0.0, 0.0, 0.0, 0.0, 0.0, 0.0, 0.0, 0.0, 0.0, 0.0, 0.0, 0.0, 0.0, 0.0, 0.0, 0.0, 0.0, 0.0, 0.0, 0.0, 0.0, 0.0, 0.0, 0.0, 0.0, 0.0, 0.0, 0.0, 0.0, 0.0, 0.0, 0.0, 0.0, 0.0, 0.0, 0.0, 0.0, 0.0, 0.025852476959826717, 0.0, 0.0, 0.0, 0.0, 0.0, 0.0, 0.0, 0.0, 0.0, 0.0, 0.0, 0.0, 0.0, 0.0, 0.0, 0.0, 0.0, 0.0, 0.0, 0.0, 0.0, 0.0, 0.0, 0.0, 0.0, 0.0, 0.0, 0.0, 0.0, 0.0, 0.0, 0.0, 0.0, 0.0, 0.0, 0.0, 0.0, 0.0, 0.0, 0.0, 0.0, 0.0, 0.0, 0.0, 0.0, 0.0, 0.0, 0.0, 0.0, 0.0, 0.0, 0.023348824801925235, 0.0, 0.025165154099934833, 0.0, 0.13103107461788113, 0.0, 0.0, 0.0, 0.0, 0.0, 0.0, 0.0, 0.0, 0.0, 0.0, 0.0, 0.0, 0.0, 0.0, 0.0, 0.026590757629462527, 0.0, 0.0, 0.0, 0.0, 0.0, 0.0, 0.0, 0.0, 0.0, 0.0, 0.0, 0.0, 0.0, 0.0, 0.0, 0.0, 0.0, 0.0, 0.0, 0.0, 0.0, 0.0, 0.0, 0.0, 0.0, 0.0, 0.0, 0.0, 0.0, 0.0, 0.0, 0.0, 0.0, 0.0, 0.0, 0.0, 0.0, 0.0, 0.0, 0.0, 0.0, 0.0, 0.016443533107281673, 0.0, 0.0, 0.0, 0.0, 0.0, 0.0, 0.0, 0.10453429238152653, 0.03142749819774069, 0.0, 0.0, 0.0, 0.0, 0.0, 0.0, 0.0, 0.0, 0.0, 0.0, 0.0, 0.0, 0.0, 0.0, 0.0, 0.0, 0.0, 0.0, 0.0, 0.0, 0.03429345319447652, 0.0, 0.0, 0.0, 0.0, 0.0, 0.0, 0.0, 0.09827330596341084, 0.396930021632729, 0.0, 0.0, 0.0, 0.0, 0.0, 0.0, 0.0, 0.0, 0.0, 0.0, 0.0, 0.0, 0.0, 0.07755743087948015, 0.08539878865065742, 0.0, 0.0, 0.0, 0.014444405468020791, 0.0, 0.0, 0.0, 0.0, 0.07356661950929139, 0.0, 0.0, 0.0, 0.0, 0.0, 0.0, 0.0, 0.0, 0.0, 0.025165154099934833, 0.0, 0.030254116496568798, 0.0, 0.0, 0.0, 0.0, 0.0, 0.0, 0.0, 0.0, 0.0, 0.0, 0.0, 0.0, 0.0, 0.0, 0.0, 0.0, 0.0, 0.0, 0.0, 0.0, 0.0, 0.0, 0.0, 0.0, 0.0, 0.0, 0.0, 0.047714709026993846, 0.0, 0.0, 0.0, 0.0, 0.0, 0.0, 0.0, 0.0, 0.0, 0.0, 0.0, 0.0, 0.0, 0.0, 0.0, 0.0, 0.0, 0.0, 0.0, 0.0, 0.0, 0.0, 0.0, 0.0, 0.0, 0.0, 0.0, 0.0, 0.0, 0.0, 0.0, 0.0, 0.0, 0.0, 0.0, 0.0, 0.0, 0.0, 0.0, 0.06144860941556819, 0.0, 0.0, 0.03142749819774069, 0.0, 0.0, 0.0, 0.0, 0.0, 0.0, 0.0, 0.0, 0.0, 0.0, 0.02934686467617979, 0.0, 0.0, 0.0, 0.0, 0.0, 0.0, 0.0, 0.0, 0.0, 0.014673432338089895, 0.021349697162664355, 0.0, 0.0, 0.03142749819774069, 0.03142749819774069, 0.0, 0.0, 0.0, 0.0, 0.060508232993137595, 0.0, 0.0, 0.0, 0.0, 0.022299199103199, 0.0, 0.0, 0.03429345319447652, 0.0, 0.0, 0.0, 0.0, 0.0, 0.0, 0.0, 0.04933059932184501, 0.0, 0.0, 0.0, 0.0, 0.0, 0.0, 0.0, 0.0, 0.0, 0.0, 0.0, 0.0, 0.0, 0.0, 0.0, 0.0, 0.024522206503097128, 0.0, 0.0, 0.0, 0.025852476959826717, 0.10340990783930687, 0.0, 0.0, 0.0, 0.0, 0.0, 0.0, 0.0, 0.03275776865447028, 0.0, 0.0, 0.0, 0.0, 0.0, 0.0, 0.0, 0.0, 0.0, 0.0, 0.0, 0.0, 0.0, 0.0, 0.0, 0.0, 0.0, 0.0, 0.0, 0.0, 0.0, 0.0, 0.0, 0.0, 0.0, 0.0, 0.0, 0.0, 0.02738816149983296, 0.0, 0.0, 0.0, 0.0, 0.0, 0.0, 0.0, 0.0, 0.02800313356332348, 0.0, 0.0, 0.0, 0.07046765923381426, 0.0, 0.0, 0.1793320264592311, 0.03789437053036631, 0.0, 0.0, 0.0, 0.0, 0.0, 0.0, 0.0, 0.0, 0.0, 0.0, 0.0, 0.0, 0.0, 0.0, 0.0, 0.022299199103199, 0.0, 0.0, 0.0, 0.0, 0.0, 0.0, 0.0, 0.0, 0.0, 0.0, 0.0, 0.0, 0.0, 0.0, 0.0, 0.0, 0.0, 0.0, 0.0, 0.0, 0.0, 0.0, 0.0, 0.0, 0.0, 0.0, 0.0, 0.0, 0.0, 0.0, 0.0, 0.0, 0.0, 0.0, 0.0, 0.0, 0.0, 0.0, 0.0, 0.0, 0.0, 0.0, 0.0, 0.0, 0.0, 0.0, 0.0, 0.0, 0.0, 0.0, 0.0, 0.0, 0.0, 0.0, 0.0, 0.0, 0.0, 0.0, 0.0, 0.0, 0.0, 0.0, 0.0, 0.0, 0.0, 0.0, 0.0, 0.0, 0.0, 0.0, 0.0, 0.0, 0.0, 0.0, 0.0, 0.0, 0.0, 0.01825986240529127, 0.0204828698051894, 0.0, 0.0, 0.0, 0.0, 0.0, 0.0, 0.10066061639973933, 0.0, 0.0, 0.0, 0.0, 0.0, 0.0, 0.0, 0.0, 0.0, 0.0, 0.0, 0.027155156221091683, 0.0, 0.0, 0.0, 0.0, 0.0, 0.0, 0.0, 0.0, 0.0, 0.0, 0.0, 0.04783650014364247, 0.0, 0.0, 0.0, 0.0, 0.0, 0.0, 0.0, 0.0, 0.020906858476305305, 0.0, 0.0, 0.0, 0.0, 0.0, 0.0, 0.026590757629462527, 0.0, 0.0, 0.025947243358539887, 0.0, 0.0, 0.0, 0.0, 0.0, 0.0, 0.0, 0.0, 0.0, 0.0, 0.0, 0.0, 0.0, 0.0, 0.0, 0.0, 0.0, 0.021349697162664355, 0.0, 0.0, 0.0, 0.0, 0.0, 0.0, 0.08655180232378312, 0.03275776865447028, 0.0, 0.0, 0.0, 0.0, 0.0, 0.0, 0.0, 0.0, 0.0, 0.0, 0.0, 0.0, 0.0, 0.0, 0.0, 0.0, 0.0, 0.03142749819774069, 0.0, 0.0, 0.0, 0.0, 0.0, 0.0, 0.0, 0.0, 0.0, 0.0, 0.018947185265183155, 0.0, 0.0, 0.0, 0.030254116496568798, 0.0, 0.0, 0.0, 0.0, 0.0, 0.0, 0.0, 0.0, 0.0, 0.0, 0.0, 0.0, 0.0, 0.03429345319447652, 0.0, 0.0, 0.0, 0.0, 0.0, 0.0, 0.0, 0.0, 0.0, 0.0, 0.0, 0.0, 0.0, 0.0, 0.01400156678166174, 0.0, 0.03429345319447652, 0.0, 0.0, 0.0, 0.0, 0.0, 0.0, 0.029204490797842562, 0.0, 0.0, 0.0, 0.0, 0.05600626712664696, 0.0, 0.0, 0.0, 0.0, 0.03429345319447652, 0.0, 0.0, 0.0, 0.0, 0.0, 0.0, 0.0, 0.0, 0.0, 0.0, 0.0, 0.0, 0.0, 0.0, 0.0, 0.0, 0.0, 0.0, 0.0, 0.0, 0.0, 0.0, 0.0, 0.0, 0.0, 0.0, 0.0, 0.0, 0.0, 0.0, 0.0, 0.0, 0.0, 0.03651972481058254, 0.0, 0.0, 0.0, 0.0, 0.0, 0.0, 0.0]\n",
      "['afternoon', 'apartment', 'aphy', 'arthursseat', 'ationalfestival', 'auldreekie', 'beautiful', 'bicycle', 'bike', 'black', 'blue', 'bridge', 'building', 'burn', 'canoneo', 'capital', 'capitalcityofsc', 'carltonhill', 'castlerock', 'church', 'city', 'cityofedinburgh', 'cityscape', 'cliff', 'climb', 'climber', 'clock', 'cloud', 'cloudy', 'coastermadmatt', 'coastermadmattp', 'cold', 'cosse', 'crag', 'crags', 'dark', 'december', 'dusk', 'edimburgh', 'edinburghintern', 'elementsorganiz', 'embankment', 'erode', 'european', 'evening', 'exercise', 'fadingdusk', 'fadingduskphoto', 'festival', 'fireworks', 'firthofforth', 'flickr', 'forth', 'fringe', 'glow', 'goldenhour', 'gorse', 'graphy', 'grass', 'grassy', 'green', 'greenerleith', 'grey', 'haar', 'hiking', 'hill', 'hills', 'hilly', 'hipsta', 'hipstamatic', 'historic', 'historicscotlan', 'holidays', 'holyrood', 'holyroodpark', 'horizon', 'hotography', 'hour', 'iconic', 'ilce', 'ingram', 'january', 'kirk', 'kyoshimasamune', 'landscape', 'landscapephotog', 'leith', 'lens', 'library', 'light', 'lighttrail', 'london', 'longexposure', 'lothian', 'mark', 'markingram', 'mediaeval', 'medieval', 'menchuela', 'midlothian', 'mist', 'monument', 'mountain', 'natural', 'nature', 'newington', 'night', 'nigreich', 'nikon', 'nikond', 'oldtown', 'orange', 'otland', 'overlook', 'pano', 'panorama', 'panoramic', 'park', 'parkland', 'parks', 'path', 'pedalonparliame', 'people', 'performance', 'photo', 'photograph', 'photography', 'photostream', 'politic', 'purple', 'queens', 'queenspark', 'raphy', 'road', 'rock', 'rocky', 'runner', 'salisbury', 'salisburycrag', 'scenery', 'scenic', 'schottland', 'scot', 'scott', 'scottishcitie', 'shadow', 'skyline', 'slope', 'snow', 'sony', 'sonya', 'sonyfe', 'sonyilce', 'southside', 'speed', 'spiritofphotogr', 'spring', 'station', 'steel', 'steeple', 'stitch', 'structure', 'summer', 'sunlight', 'sunset', 'sunshine', 'tamron', 'tower', 'town', 'trail', 'tree', 'twilight', 'unesco', 'university', 'urban', 'vereinigtesk', 'view', 'viewpoint', 'volcanic', 'walk', 'walterhampson', 'waverly', 'white', 'whphotography', 'wind', 'winter', 'wool', 'yellow']\n"
     ]
    }
   ],
   "source": [
    "print(matrix_list[0])#print first list in matrix\n",
    "print(all_keywords[0]) #print tags with tfidf (normalised) > 0 indicating rarer terms\n"
   ]
  },
  {
   "cell_type": "code",
   "execution_count": 10,
   "id": "cooperative-entertainment",
   "metadata": {},
   "outputs": [],
   "source": [
    "#let's try cluster the terms from each document\n",
    "#if using, need to calculate for 'LEMMATISED_TAGS' column not the already filtered top_words\n",
    "\n",
    "#let's try 8 clusters to start off with\n",
    "true_k = 10\n",
    "\n",
    "model = KMeans(n_clusters=true_k, init=\"k-means++\", max_iter=100, n_init=1)\n",
    "\n",
    "#fit K-means model to the vector we have created above \n",
    "model.fit(Vectors)\n",
    "\n",
    "#create clusters by the centre value?\n",
    "order_centroids = model.cluster_centers_.argsort()[:, ::-1]\n",
    "terms = Vectorizer.get_feature_names_out()\n",
    "\n",
    "with open (\"tfidf_cluster_results.txt\", \"w\", encoding=\"utf-8\") as f:\n",
    "    for i in range(true_k):\n",
    "        f.write(f\"Cluster {i}\")\n",
    "        f.write(\"\\n\")\n",
    "        for ind in order_centroids[i, :15]: #show first 10 terms in cluster (most likely to be associated with it)\n",
    "            f.write (' %s' % terms[ind],)\n",
    "            f.write(\"\\n\")\n",
    "        f.write(\"\\n\")\n",
    "        f.write(\"\\n\")"
   ]
  }
 ],
 "metadata": {
  "kernelspec": {
   "display_name": "Python 3",
   "language": "python",
   "name": "python3"
  },
  "language_info": {
   "codemirror_mode": {
    "name": "ipython",
    "version": 3
   },
   "file_extension": ".py",
   "mimetype": "text/x-python",
   "name": "python",
   "nbconvert_exporter": "python",
   "pygments_lexer": "ipython3",
   "version": "3.8.8"
  }
 },
 "nbformat": 4,
 "nbformat_minor": 5
}
